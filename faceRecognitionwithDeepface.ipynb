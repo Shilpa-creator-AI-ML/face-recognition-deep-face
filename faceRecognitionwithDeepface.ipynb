{
 "cells": [
  {
   "cell_type": "code",
   "execution_count": null,
   "id": "9c8a193e-160b-4aec-85bf-8d0327e449b7",
   "metadata": {
    "scrolled": true
   },
   "outputs": [
    {
     "name": "stdout",
     "output_type": "stream",
     "text": [
      "WARNING:tensorflow:From C:\\Users\\hp\\AppData\\Local\\Programs\\Python\\Python310\\lib\\site-packages\\keras\\src\\losses.py:2976: The name tf.losses.sparse_softmax_cross_entropy is deprecated. Please use tf.compat.v1.losses.sparse_softmax_cross_entropy instead.\n",
      "\n",
      "2.15.0\n",
      "Press 'q' to quit.\n"
     ]
    }
   ],
   "source": [
    "from tensorflow import keras\n",
    "import tensorflow as tf\n",
    "print(tf.__version__)\n",
    "import cv2\n",
    "import os\n",
    "from deepface import DeepFace\n",
    "\n",
    "# Set known image and name\n",
    "known_image_path = \"C:/Users/hp/Pictures/Camera Roll/image.jpg\"\n",
    "known_name = \"Shilpa\"\n",
    "\n",
    "if not os.path.exists(known_image_path):\n",
    "    print(\"Known image not found.\")\n",
    "    exit()\n",
    "# Start webcam\n",
    "video_capture = cv2.VideoCapture(0)\n",
    "\n",
    "print(\"Press 'q' to quit.\")\n",
    "\n",
    "while True:\n",
    "    ret, frame = video_capture.read()\n",
    "    if not ret:\n",
    "        break\n",
    "\n",
    "    try:\n",
    "        # Analyze faces in frame using DeepFace\n",
    "        detections = DeepFace.extract_faces(img_path=frame,\n",
    "                                            enforce_detection=False,\n",
    "                                            detector_backend='mediapipe')\n",
    "\n",
    "        for face in detections:\n",
    "            region = face['facial_area']\n",
    "            x, y, w, h = region['x'], region['y'], region['w'], region['h']\n",
    "            detected_face = face['face']\n",
    "\n",
    "            # Save detected face temporarily\n",
    "            cv2.imwrite(\"detected_face.jpg\", detected_face)\n",
    "\n",
    "            # Compare with known face\n",
    "            result = DeepFace.verify(img1_path=known_image_path,\n",
    "                                     img2_path=\"detected_face.jpg\",\n",
    "                                     enforce_detection=False)\n",
    "\n",
    "            match = result[\"verified\"]\n",
    "\n",
    "            # Draw box + label\n",
    "            if match:\n",
    "                name = known_name\n",
    "                color = (0, 0, 255)  # red\n",
    "            else:\n",
    "                name = \"Unknown\"\n",
    "                color = (0, 255, 255)  # yellow\n",
    "\n",
    "            cv2.rectangle(frame, (x, y), (x + w, y + h), color, 2)\n",
    "            cv2.rectangle(frame, (x, y + h - 35), (x + w, y + h), color, cv2.FILLED)\n",
    "            font = cv2.FONT_HERSHEY_SIMPLEX\n",
    "            cv2.putText(frame, name, (x + 6, y + h - 6), font, 1.0, (255, 255, 255), 1)\n",
    "\n",
    "    except Exception as e:\n",
    "        print(\"Error:\", e)\n",
    "\n",
    "    cv2.imshow(\"DeepFace Real-Time Recognition\", frame)\n",
    "\n",
    "    if cv2.waitKey(1) & 0xFF == ord('q'):\n",
    "        break\n",
    "\n",
    "video_capture.release()\n",
    "cv2.destroyAllWindows()\n"
   ]
  },
  {
   "cell_type": "code",
   "execution_count": null,
   "id": "4f2d1b96-7e3b-4c9d-bada-91093528a83e",
   "metadata": {},
   "outputs": [],
   "source": []
  }
 ],
 "metadata": {
  "kernelspec": {
   "display_name": "Python 3 (ipykernel)",
   "language": "python",
   "name": "python3"
  },
  "language_info": {
   "codemirror_mode": {
    "name": "ipython",
    "version": 3
   },
   "file_extension": ".py",
   "mimetype": "text/x-python",
   "name": "python",
   "nbconvert_exporter": "python",
   "pygments_lexer": "ipython3",
   "version": "3.10.0"
  }
 },
 "nbformat": 4,
 "nbformat_minor": 5
}
